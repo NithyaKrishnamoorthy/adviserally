{
 "cells": [
  {
   "cell_type": "markdown",
   "metadata": {},
   "source": [
    "# Background"
   ]
  },
  {
   "cell_type": "markdown",
   "metadata": {},
   "source": [
    "This notebook is a testbed for building a RAG for AdvisorAlly"
   ]
  },
  {
   "cell_type": "markdown",
   "metadata": {},
   "source": [
    "# Import Libraries and Dependencies"
   ]
  },
  {
   "cell_type": "code",
   "execution_count": 1,
   "metadata": {},
   "outputs": [],
   "source": [
    "import os\n",
    "os.chdir(\"../\")"
   ]
  },
  {
   "cell_type": "code",
   "execution_count": 2,
   "metadata": {},
   "outputs": [
    {
     "data": {
      "text/plain": [
       "True"
      ]
     },
     "execution_count": 2,
     "metadata": {},
     "output_type": "execute_result"
    }
   ],
   "source": [
    "import os\n",
    "from typing import List\n",
    "import sqlite3\n",
    "import boto3\n",
    "\n",
    "import streamlit as st\n",
    "import streamlit_authenticator as stauth\n",
    "import yaml\n",
    "from bs4 import BeautifulSoup as Soup\n",
    "import pandas as pd\n",
    "\n",
    "from dotenv import load_dotenv\n",
    "\n",
    "# load agents and tools modules\n",
    "from langchain.agents import AgentType, Tool, create_sql_agent, initialize_agent\n",
    "from langchain.agents.agent_toolkits import SQLDatabaseToolkit\n",
    "from langchain.schema.runnable import RunnableConfig\n",
    "from langchain.callbacks import StreamlitCallbackHandler\n",
    "from langchain.chains import RetrievalQA\n",
    "from langchain.chat_models import ChatOpenAI\n",
    "from langchain.memory import ConversationBufferMemory\n",
    "from langchain.document_loaders import PyPDFDirectoryLoader\n",
    "from langchain.document_loaders.recursive_url_loader import RecursiveUrlLoader\n",
    "from langchain.embeddings import OpenAIEmbeddings\n",
    "from langchain.embeddings.openai import OpenAIEmbeddings\n",
    "from langchain.memory.chat_message_histories import StreamlitChatMessageHistory\n",
    "from langchain.sql_database import SQLDatabase\n",
    "from langchain.text_splitter import CharacterTextSplitter\n",
    "from langchain.tools import DuckDuckGoSearchResults, Tool\n",
    "from langchain.vectorstores import FAISS\n",
    "from loguru import logger\n",
    "from yaml.loader import SafeLoader\n",
    "\n",
    "# load_dotenv(\"secrets.env\")\n",
    "load_dotenv(\".streamlit/secrets.toml\")"
   ]
  },
  {
   "cell_type": "markdown",
   "metadata": {},
   "source": [
    "# Index PDF into vectorstore"
   ]
  },
  {
   "cell_type": "code",
   "execution_count": 3,
   "metadata": {},
   "outputs": [],
   "source": [
    "from langchain.document_loaders import PyPDFDirectoryLoader\n",
    "from langchain.text_splitter import CharacterTextSplitter\n",
    "loader = PyPDFDirectoryLoader(\"./data/pdfs/\")\n",
    "pages = loader.load()\n"
   ]
  },
  {
   "cell_type": "code",
   "execution_count": 4,
   "metadata": {},
   "outputs": [
    {
     "name": "stderr",
     "output_type": "stream",
     "text": [
      "\u001b[32m2023-10-29 12:30:19.103\u001b[0m | \u001b[1mINFO    \u001b[0m | \u001b[36m__main__\u001b[0m:\u001b[36m<module>\u001b[0m:\u001b[36m7\u001b[0m - \u001b[1mSplit data/pdfs/HSBCLife-happymummy-happyfamily-brochure.pdf page 0 into 1 chunks\u001b[0m\n",
      "\u001b[32m2023-10-29 12:30:19.104\u001b[0m | \u001b[1mINFO    \u001b[0m | \u001b[36m__main__\u001b[0m:\u001b[36m<module>\u001b[0m:\u001b[36m7\u001b[0m - \u001b[1mSplit data/pdfs/HSBCLife-happymummy-happyfamily-brochure.pdf page 1 into 4 chunks\u001b[0m\n",
      "\u001b[32m2023-10-29 12:30:19.105\u001b[0m | \u001b[1mINFO    \u001b[0m | \u001b[36m__main__\u001b[0m:\u001b[36m<module>\u001b[0m:\u001b[36m7\u001b[0m - \u001b[1mSplit data/pdfs/HSBCLife-happymummy-happyfamily-brochure.pdf page 2 into 5 chunks\u001b[0m\n",
      "Created a chunk of size 1125, which is longer than the specified 1000\n",
      "\u001b[32m2023-10-29 12:30:19.105\u001b[0m | \u001b[1mINFO    \u001b[0m | \u001b[36m__main__\u001b[0m:\u001b[36m<module>\u001b[0m:\u001b[36m7\u001b[0m - \u001b[1mSplit data/pdfs/HSBCLife-happymummy-happyfamily-brochure.pdf page 3 into 10 chunks\u001b[0m\n",
      "\u001b[32m2023-10-29 12:30:19.106\u001b[0m | \u001b[1mINFO    \u001b[0m | \u001b[36m__main__\u001b[0m:\u001b[36m<module>\u001b[0m:\u001b[36m7\u001b[0m - \u001b[1mSplit data/pdfs/HSBCLife-happymummy-happyfamily-brochure.pdf page 4 into 5 chunks\u001b[0m\n",
      "\u001b[32m2023-10-29 12:30:19.107\u001b[0m | \u001b[1mINFO    \u001b[0m | \u001b[36m__main__\u001b[0m:\u001b[36m<module>\u001b[0m:\u001b[36m7\u001b[0m - \u001b[1mSplit data/pdfs/hsbc-life-treasure-brochure-english.pdf page 0 into 1 chunks\u001b[0m\n",
      "\u001b[32m2023-10-29 12:30:19.107\u001b[0m | \u001b[1mINFO    \u001b[0m | \u001b[36m__main__\u001b[0m:\u001b[36m<module>\u001b[0m:\u001b[36m7\u001b[0m - \u001b[1mSplit data/pdfs/hsbc-life-treasure-brochure-english.pdf page 1 into 2 chunks\u001b[0m\n",
      "\u001b[32m2023-10-29 12:30:19.108\u001b[0m | \u001b[1mINFO    \u001b[0m | \u001b[36m__main__\u001b[0m:\u001b[36m<module>\u001b[0m:\u001b[36m7\u001b[0m - \u001b[1mSplit data/pdfs/hsbc-life-treasure-brochure-english.pdf page 2 into 4 chunks\u001b[0m\n",
      "\u001b[32m2023-10-29 12:30:19.108\u001b[0m | \u001b[1mINFO    \u001b[0m | \u001b[36m__main__\u001b[0m:\u001b[36m<module>\u001b[0m:\u001b[36m7\u001b[0m - \u001b[1mSplit data/pdfs/hsbc-life-treasure-brochure-english.pdf page 3 into 3 chunks\u001b[0m\n",
      "\u001b[32m2023-10-29 12:30:19.108\u001b[0m | \u001b[1mINFO    \u001b[0m | \u001b[36m__main__\u001b[0m:\u001b[36m<module>\u001b[0m:\u001b[36m7\u001b[0m - \u001b[1mSplit data/pdfs/hsbc-life-treasure-brochure-english.pdf page 4 into 4 chunks\u001b[0m\n",
      "\u001b[32m2023-10-29 12:30:19.109\u001b[0m | \u001b[1mINFO    \u001b[0m | \u001b[36m__main__\u001b[0m:\u001b[36m<module>\u001b[0m:\u001b[36m7\u001b[0m - \u001b[1mSplit data/pdfs/hsbc-life-treasure-brochure-english.pdf page 5 into 3 chunks\u001b[0m\n",
      "\u001b[32m2023-10-29 12:30:19.109\u001b[0m | \u001b[1mINFO    \u001b[0m | \u001b[36m__main__\u001b[0m:\u001b[36m<module>\u001b[0m:\u001b[36m7\u001b[0m - \u001b[1mSplit data/pdfs/hsbc-life-treasure-brochure-english.pdf page 6 into 1 chunks\u001b[0m\n",
      "\u001b[32m2023-10-29 12:30:19.110\u001b[0m | \u001b[1mINFO    \u001b[0m | \u001b[36m__main__\u001b[0m:\u001b[36m<module>\u001b[0m:\u001b[36m7\u001b[0m - \u001b[1mSplit data/pdfs/Term-Protector-Brochure.pdf page 0 into 1 chunks\u001b[0m\n",
      "\u001b[32m2023-10-29 12:30:19.110\u001b[0m | \u001b[1mINFO    \u001b[0m | \u001b[36m__main__\u001b[0m:\u001b[36m<module>\u001b[0m:\u001b[36m7\u001b[0m - \u001b[1mSplit data/pdfs/Term-Protector-Brochure.pdf page 1 into 2 chunks\u001b[0m\n",
      "\u001b[32m2023-10-29 12:30:19.111\u001b[0m | \u001b[1mINFO    \u001b[0m | \u001b[36m__main__\u001b[0m:\u001b[36m<module>\u001b[0m:\u001b[36m7\u001b[0m - \u001b[1mSplit data/pdfs/Term-Protector-Brochure.pdf page 2 into 4 chunks\u001b[0m\n",
      "\u001b[32m2023-10-29 12:30:19.111\u001b[0m | \u001b[1mINFO    \u001b[0m | \u001b[36m__main__\u001b[0m:\u001b[36m<module>\u001b[0m:\u001b[36m7\u001b[0m - \u001b[1mSplit data/pdfs/Term-Protector-Brochure.pdf page 3 into 6 chunks\u001b[0m\n",
      "\u001b[32m2023-10-29 12:30:19.111\u001b[0m | \u001b[1mINFO    \u001b[0m | \u001b[36m__main__\u001b[0m:\u001b[36m<module>\u001b[0m:\u001b[36m7\u001b[0m - \u001b[1mSplit data/pdfs/Term-Protector-Brochure.pdf page 4 into 1 chunks\u001b[0m\n",
      "\u001b[32m2023-10-29 12:30:19.112\u001b[0m | \u001b[1mINFO    \u001b[0m | \u001b[36m__main__\u001b[0m:\u001b[36m<module>\u001b[0m:\u001b[36m7\u001b[0m - \u001b[1mSplit data/pdfs/HSBC-Life-CritiCare-for-him-brochure.pdf page 0 into 1 chunks\u001b[0m\n",
      "\u001b[32m2023-10-29 12:30:19.112\u001b[0m | \u001b[1mINFO    \u001b[0m | \u001b[36m__main__\u001b[0m:\u001b[36m<module>\u001b[0m:\u001b[36m7\u001b[0m - \u001b[1mSplit data/pdfs/HSBC-Life-CritiCare-for-him-brochure.pdf page 1 into 1 chunks\u001b[0m\n",
      "\u001b[32m2023-10-29 12:30:19.112\u001b[0m | \u001b[1mINFO    \u001b[0m | \u001b[36m__main__\u001b[0m:\u001b[36m<module>\u001b[0m:\u001b[36m7\u001b[0m - \u001b[1mSplit data/pdfs/HSBC-Life-CritiCare-for-him-brochure.pdf page 2 into 2 chunks\u001b[0m\n",
      "\u001b[32m2023-10-29 12:30:19.113\u001b[0m | \u001b[1mINFO    \u001b[0m | \u001b[36m__main__\u001b[0m:\u001b[36m<module>\u001b[0m:\u001b[36m7\u001b[0m - \u001b[1mSplit data/pdfs/HSBC-Life-CritiCare-for-him-brochure.pdf page 3 into 2 chunks\u001b[0m\n",
      "\u001b[32m2023-10-29 12:30:19.113\u001b[0m | \u001b[1mINFO    \u001b[0m | \u001b[36m__main__\u001b[0m:\u001b[36m<module>\u001b[0m:\u001b[36m7\u001b[0m - \u001b[1mSplit data/pdfs/HSBC-Life-CritiCare-for-him-brochure.pdf page 4 into 2 chunks\u001b[0m\n",
      "\u001b[32m2023-10-29 12:30:19.113\u001b[0m | \u001b[1mINFO    \u001b[0m | \u001b[36m__main__\u001b[0m:\u001b[36m<module>\u001b[0m:\u001b[36m7\u001b[0m - \u001b[1mSplit data/pdfs/HSBC-Life-CritiCare-for-him-brochure.pdf page 5 into 2 chunks\u001b[0m\n",
      "\u001b[32m2023-10-29 12:30:19.114\u001b[0m | \u001b[1mINFO    \u001b[0m | \u001b[36m__main__\u001b[0m:\u001b[36m<module>\u001b[0m:\u001b[36m7\u001b[0m - \u001b[1mSplit data/pdfs/HSBC-Life-CritiCare-for-him-brochure.pdf page 6 into 3 chunks\u001b[0m\n",
      "\u001b[32m2023-10-29 12:30:19.114\u001b[0m | \u001b[1mINFO    \u001b[0m | \u001b[36m__main__\u001b[0m:\u001b[36m<module>\u001b[0m:\u001b[36m7\u001b[0m - \u001b[1mSplit data/pdfs/HSBC-Life-CritiCare-for-him-brochure.pdf page 7 into 1 chunks\u001b[0m\n",
      "\u001b[32m2023-10-29 12:30:19.114\u001b[0m | \u001b[1mINFO    \u001b[0m | \u001b[36m__main__\u001b[0m:\u001b[36m<module>\u001b[0m:\u001b[36m7\u001b[0m - \u001b[1mSplit data/pdfs/Term product Advantage product-brochure.pdf page 0 into 1 chunks\u001b[0m\n",
      "\u001b[32m2023-10-29 12:30:19.115\u001b[0m | \u001b[1mINFO    \u001b[0m | \u001b[36m__main__\u001b[0m:\u001b[36m<module>\u001b[0m:\u001b[36m7\u001b[0m - \u001b[1mSplit data/pdfs/Term product Advantage product-brochure.pdf page 1 into 1 chunks\u001b[0m\n",
      "\u001b[32m2023-10-29 12:30:19.115\u001b[0m | \u001b[1mINFO    \u001b[0m | \u001b[36m__main__\u001b[0m:\u001b[36m<module>\u001b[0m:\u001b[36m7\u001b[0m - \u001b[1mSplit data/pdfs/Term product Advantage product-brochure.pdf page 2 into 4 chunks\u001b[0m\n",
      "\u001b[32m2023-10-29 12:30:19.115\u001b[0m | \u001b[1mINFO    \u001b[0m | \u001b[36m__main__\u001b[0m:\u001b[36m<module>\u001b[0m:\u001b[36m7\u001b[0m - \u001b[1mSplit data/pdfs/Term product Advantage product-brochure.pdf page 3 into 3 chunks\u001b[0m\n",
      "\u001b[32m2023-10-29 12:30:19.116\u001b[0m | \u001b[1mINFO    \u001b[0m | \u001b[36m__main__\u001b[0m:\u001b[36m<module>\u001b[0m:\u001b[36m7\u001b[0m - \u001b[1mSplit data/pdfs/Term product Advantage product-brochure.pdf page 4 into 1 chunks\u001b[0m\n",
      "\u001b[32m2023-10-29 12:30:19.116\u001b[0m | \u001b[1mINFO    \u001b[0m | \u001b[36m__main__\u001b[0m:\u001b[36m<module>\u001b[0m:\u001b[36m7\u001b[0m - \u001b[1mSplit data/pdfs/Term product Advantage product-brochure.pdf page 5 into 1 chunks\u001b[0m\n",
      "Created a chunk of size 1795, which is longer than the specified 1000\n",
      "\u001b[32m2023-10-29 12:30:19.117\u001b[0m | \u001b[1mINFO    \u001b[0m | \u001b[36m__main__\u001b[0m:\u001b[36m<module>\u001b[0m:\u001b[36m7\u001b[0m - \u001b[1mSplit data/pdfs/Term product Advantage product-brochure.pdf page 6 into 2 chunks\u001b[0m\n",
      "\u001b[32m2023-10-29 12:30:19.117\u001b[0m | \u001b[1mINFO    \u001b[0m | \u001b[36m__main__\u001b[0m:\u001b[36m<module>\u001b[0m:\u001b[36m7\u001b[0m - \u001b[1mSplit data/pdfs/HSBCLife-cancer-recover-brochure-english.pdf page 0 into 5 chunks\u001b[0m\n",
      "\u001b[32m2023-10-29 12:30:19.118\u001b[0m | \u001b[1mINFO    \u001b[0m | \u001b[36m__main__\u001b[0m:\u001b[36m<module>\u001b[0m:\u001b[36m7\u001b[0m - \u001b[1mSplit data/pdfs/HSBCLife-cancer-recover-brochure-english.pdf page 1 into 4 chunks\u001b[0m\n",
      "\u001b[32m2023-10-29 12:30:19.118\u001b[0m | \u001b[1mINFO    \u001b[0m | \u001b[36m__main__\u001b[0m:\u001b[36m<module>\u001b[0m:\u001b[36m7\u001b[0m - \u001b[1mSplit data/pdfs/HSBC-Life-CritiCare-for-her-brochure.pdf page 0 into 1 chunks\u001b[0m\n",
      "\u001b[32m2023-10-29 12:30:19.118\u001b[0m | \u001b[1mINFO    \u001b[0m | \u001b[36m__main__\u001b[0m:\u001b[36m<module>\u001b[0m:\u001b[36m7\u001b[0m - \u001b[1mSplit data/pdfs/HSBC-Life-CritiCare-for-her-brochure.pdf page 1 into 1 chunks\u001b[0m\n",
      "\u001b[32m2023-10-29 12:30:19.119\u001b[0m | \u001b[1mINFO    \u001b[0m | \u001b[36m__main__\u001b[0m:\u001b[36m<module>\u001b[0m:\u001b[36m7\u001b[0m - \u001b[1mSplit data/pdfs/HSBC-Life-CritiCare-for-her-brochure.pdf page 2 into 2 chunks\u001b[0m\n",
      "\u001b[32m2023-10-29 12:30:19.119\u001b[0m | \u001b[1mINFO    \u001b[0m | \u001b[36m__main__\u001b[0m:\u001b[36m<module>\u001b[0m:\u001b[36m7\u001b[0m - \u001b[1mSplit data/pdfs/HSBC-Life-CritiCare-for-her-brochure.pdf page 3 into 2 chunks\u001b[0m\n",
      "\u001b[32m2023-10-29 12:30:19.120\u001b[0m | \u001b[1mINFO    \u001b[0m | \u001b[36m__main__\u001b[0m:\u001b[36m<module>\u001b[0m:\u001b[36m7\u001b[0m - \u001b[1mSplit data/pdfs/HSBC-Life-CritiCare-for-her-brochure.pdf page 4 into 3 chunks\u001b[0m\n",
      "\u001b[32m2023-10-29 12:30:19.120\u001b[0m | \u001b[1mINFO    \u001b[0m | \u001b[36m__main__\u001b[0m:\u001b[36m<module>\u001b[0m:\u001b[36m7\u001b[0m - \u001b[1mSplit data/pdfs/HSBC-Life-CritiCare-for-her-brochure.pdf page 5 into 2 chunks\u001b[0m\n",
      "\u001b[32m2023-10-29 12:30:19.120\u001b[0m | \u001b[1mINFO    \u001b[0m | \u001b[36m__main__\u001b[0m:\u001b[36m<module>\u001b[0m:\u001b[36m7\u001b[0m - \u001b[1mSplit data/pdfs/HSBC-Life-CritiCare-for-her-brochure.pdf page 6 into 3 chunks\u001b[0m\n",
      "\u001b[32m2023-10-29 12:30:19.120\u001b[0m | \u001b[1mINFO    \u001b[0m | \u001b[36m__main__\u001b[0m:\u001b[36m<module>\u001b[0m:\u001b[36m7\u001b[0m - \u001b[1mSplit data/pdfs/HSBC-Life-CritiCare-for-her-brochure.pdf page 7 into 1 chunks\u001b[0m\n"
     ]
    }
   ],
   "source": [
    "text_splitter = CharacterTextSplitter(chunk_size=1000, separator=\"\\n\")\n",
    "docs, metadatas = [], []\n",
    "for page in pages:\n",
    "    splits = text_splitter.split_text(page.page_content)\n",
    "    docs.extend(splits)\n",
    "    metadatas.extend([{\"source\": page.metadata[\"source\"], \"page\": page.metadata[\"page\"]}] * len(splits))\n",
    "    logger.info(f\"Split {page.metadata['source']} page {page.metadata['page']} into {len(splits)} chunks\")"
   ]
  },
  {
   "cell_type": "code",
   "execution_count": 5,
   "metadata": {},
   "outputs": [],
   "source": [
    "embeddings_path = \"./data/embeddings/\"\n",
    "embeddings_file_name = \"pdfs_vectorstore.pkl\"\n",
    "\n",
    "if not os.path.exists(os.path.join(embeddings_path, embeddings_file_name)):\n",
    "    store = FAISS.from_texts(docs, OpenAIEmbeddings(), metadatas=metadatas)\n",
    "    store.save_local(os.path.join(embeddings_path, embeddings_file_name))\n",
    "else:\n",
    "    store = FAISS.load_local(os.path.join(embeddings_path, embeddings_file_name), OpenAIEmbeddings())\n",
    "\n",
    "llm = ChatOpenAI(openai_api_key=os.environ[\"OPENAI_API_KEY\"], model_name=\"gpt-4\", temperature=0.0)\n",
    "\n",
    "# initialize vectorstore retriever object\n",
    "pdf_chain = RetrievalQA.from_chain_type(\n",
    "    llm=llm,\n",
    "    chain_type=\"stuff\",\n",
    "    retriever=store.as_retriever(search_type=\"mmr\", search_kwargs={\"k\": 2, \"fetch_k\": 6}),\n",
    ")"
   ]
  },
  {
   "cell_type": "code",
   "execution_count": 6,
   "metadata": {},
   "outputs": [
    {
     "data": {
      "text/plain": [
       "'The context provided mentions a product from HSBC Life called Life Treasure (II). This is a comprehensive protection plan designed to cover your whole life. For more detailed information about this product or other insurance products from HSBC Life, you can visit their website at www.hsbclife.com.sg or call their enquiry line at (65) 6880 4888.'"
      ]
     },
     "execution_count": 6,
     "metadata": {},
     "output_type": "execute_result"
    }
   ],
   "source": [
    "pdf_chain.run(\"Tell me about HSBC Life Insurance products\")"
   ]
  },
  {
   "cell_type": "markdown",
   "metadata": {},
   "source": [
    "# index data into sqlite3 database\n",
    "\n",
    "This has been made into a one-time runnable script `src/create_sqlite_db.py`"
   ]
  },
  {
   "cell_type": "code",
   "execution_count": null,
   "metadata": {},
   "outputs": [],
   "source": [
    "# write pandas code to read xlsx file\n",
    "import pandas as pd\n",
    "df = pd.read_excel('data/scrapped_output_term_full_20231011.xlsx', sheet_name='Term Life', index_col=0)\n",
    "# df = df.sample(frac=0.005, replace=False, random_state=1)"
   ]
  },
  {
   "cell_type": "code",
   "execution_count": 13,
   "metadata": {},
   "outputs": [],
   "source": [
    "# Create a connection to the SQLite database (it will create a new file if it doesn't exist)\n",
    "conn = sqlite3.connect(\"data/sqlite/my_database.sqlite\")\n",
    "\n",
    "# Write the DataFrame to the SQLite database\n",
    "df.to_sql(\"term_life_table\", conn, if_exists=\"replace\", index=True)\n",
    "\n",
    "# Close the connection\n",
    "conn.close()"
   ]
  },
  {
   "cell_type": "code",
   "execution_count": 16,
   "metadata": {},
   "outputs": [],
   "source": [
    "# Connect to the SQLite database\n",
    "conn = sqlite3.connect(\"data/sqlite/my_database.sqlite\")\n",
    "cursor = conn.cursor()\n",
    "\n",
    "# Run a SQL query\n",
    "cursor.execute(\"SELECT * FROM term_life_table WHERE AGE = 40\")\n",
    "results = cursor.fetchall()\n",
    "\n",
    "# Do something with the results...\n",
    "# print(results)\n",
    "\n",
    "# Close the connection\n",
    "conn.close()"
   ]
  },
  {
   "cell_type": "markdown",
   "metadata": {},
   "source": [
    "# Initialize SQL Agent"
   ]
  },
  {
   "cell_type": "code",
   "execution_count": 16,
   "metadata": {},
   "outputs": [],
   "source": [
    "db = SQLDatabase.from_uri(\"sqlite:///data/sqlite/my_database.sqlite\")\n",
    "toolkit = SQLDatabaseToolkit(\n",
    "    db=db,\n",
    "    llm=ChatOpenAI(openai_api_key=os.environ[\"OPENAI_API_KEY\"], model_name=\"gpt-4\", temperature=0.0),\n",
    ")\n",
    "\n",
    "sql_agent = create_sql_agent(\n",
    "    llm=ChatOpenAI(openai_api_key=os.environ[\"OPENAI_API_KEY\"], model_name=\"gpt-4\", temperature=0.0),\n",
    "    toolkit=toolkit,\n",
    "    verbose=True,\n",
    "    agent_type=AgentType.ZERO_SHOT_REACT_DESCRIPTION,\n",
    ")"
   ]
  },
  {
   "cell_type": "markdown",
   "metadata": {},
   "source": [
    "# Index webpages into vectorstore"
   ]
  },
  {
   "cell_type": "code",
   "execution_count": 10,
   "metadata": {},
   "outputs": [],
   "source": [
    "import xmltodict\n",
    "import requests\n",
    "from bs4 import BeautifulSoup\n",
    "\n",
    "def extract_text_from(url):\n",
    "    html = requests.get(url).text\n",
    "    soup = BeautifulSoup(html, features=\"html.parser\")\n",
    "    text = soup.get_text()\n",
    "\n",
    "    lines = (line.strip() for line in text.splitlines())\n",
    "    return '\\n'.join(line for line in lines if line)\n",
    "\n",
    "pages = []\n",
    "\n",
    "url = \"https://www.moneysmart.sg/cancer-insurance\"\n",
    "pages.append({'text': extract_text_from(url), 'source': url})"
   ]
  },
  {
   "cell_type": "code",
   "execution_count": 11,
   "metadata": {},
   "outputs": [],
   "source": [
    "from langchain.document_loaders.recursive_url_loader import RecursiveUrlLoader\n",
    "from bs4 import BeautifulSoup as Soup\n",
    "\n",
    "url = \"https://www.moneysmart.sg/cancer-insurance\"\n",
    "loader = RecursiveUrlLoader(url=url, max_depth=3, extractor=lambda x: Soup(x, \"html.parser\").text)\n",
    "pages = loader.load()"
   ]
  },
  {
   "cell_type": "code",
   "execution_count": null,
   "metadata": {},
   "outputs": [],
   "source": [
    "from langchain.text_splitter import CharacterTextSplitter\n",
    "\n",
    "text_splitter = CharacterTextSplitter(chunk_size=1500, separator=\"\\n\")\n",
    "docs, metadatas = [], []\n",
    "for page in pages:\n",
    "    splits = text_splitter.split_text(page.page_content)\n",
    "    docs.extend(splits)\n",
    "    metadatas.extend([{\"source\": page.metadata[\"source\"]}] * len(splits))\n",
    "    logger.info(f\"Split {page.metadata['source']} into {len(splits)} chunks\")"
   ]
  },
  {
   "cell_type": "code",
   "execution_count": 13,
   "metadata": {},
   "outputs": [],
   "source": [
    "import faiss\n",
    "from langchain.vectorstores import FAISS\n",
    "from langchain.embeddings import OpenAIEmbeddings\n",
    "\n",
    "embeddings_path = \"./data/embeddings/\"\n",
    "embeddings_file_name = \"webpages_vectorstore.pkl\"\n",
    "\n",
    "if not os.path.exists(os.path.join(embeddings_path, embeddings_file_name)):\n",
    "    store = FAISS.from_texts(docs, OpenAIEmbeddings(), metadatas=metadatas)\n",
    "    store.save_local(os.path.join(embeddings_path, embeddings_file_name))\n",
    "else:\n",
    "    store = FAISS.load_local(os.path.join(embeddings_path, embeddings_file_name), OpenAIEmbeddings())\n",
    "\n",
    "llm = ChatOpenAI(openai_api_key=os.environ[\"OPENAI_API_KEY\"], model_name=\"gpt-4\", temperature=0.0)\n",
    "\n",
    "# initialize vectorstore retriever object\n",
    "webpage_chain = RetrievalQA.from_chain_type(\n",
    "    llm=llm,\n",
    "    chain_type=\"stuff\",\n",
    "    retriever=store.as_retriever(),\n",
    ")"
   ]
  },
  {
   "cell_type": "code",
   "execution_count": 14,
   "metadata": {},
   "outputs": [
    {
     "data": {
      "text/plain": [
       "'MSIG cancer insurance is a policy that covers various stages of cancer along with medical expenses. It can be purchased directly online with a hassle-free approach and at an affordable price. The maximum sum insured for a non-smoker male of 25 years is S$100,000. The insurance plan, called MSIG CancerCare Plus, offers coverage from early to late stages of cancer. The annual premium for this plan is S$54, but there is currently a 20% discount, making the premium S$43.20. There is also a promotion where you can get S$10 cash via PayNow as fast as 1 month while enjoying the 20% off on MSIG CancerCare Plus Insurance plans. This promotion is valid until 31 Oct 2023. Please note that this plan does not include a death benefit.'"
      ]
     },
     "execution_count": 14,
     "metadata": {},
     "output_type": "execute_result"
    }
   ],
   "source": [
    "webpage_chain.run(\"Tell me about MSIG cancer insurance\")\n"
   ]
  },
  {
   "cell_type": "markdown",
   "metadata": {},
   "source": [
    "# DuckDuckGo Agent"
   ]
  },
  {
   "cell_type": "code",
   "execution_count": 8,
   "metadata": {},
   "outputs": [],
   "source": [
    "from langchain.tools import Tool, DuckDuckGoSearchResults\n",
    "from langchain.utilities import DuckDuckGoSearchAPIWrapper\n",
    "\n",
    "# wrapper = DuckDuckGoSearchAPIWrapper(region=\"de-de\", time=\"d\", max_results=5)\n",
    "# ddg_search = DuckDuckGoSearchResults()\n",
    "ddg_agent = DuckDuckGoSearchResults(\n",
    "    name=\"Web Search Results\",\n",
    "    backend=\"api\",\n",
    "    description=\"\"\"A wrapper around Duck Duck Go Search. Useful for when you need to answer when there are no more alternatives. \n",
    "    Input should be a search query. Output is a JSON array of the query results. \n",
    "    Please search in Singapore region for best results.\n",
    "    \"\"\",\n",
    ")"
   ]
  },
  {
   "cell_type": "markdown",
   "metadata": {},
   "source": [
    "# Initialize LLM agent"
   ]
  },
  {
   "cell_type": "markdown",
   "metadata": {},
   "source": [
    "2 kinds:\n",
    "- AgentType.ZERO_SHOT_REACT_DESCRIPTION\n",
    "- AgentType.CONVERSATIONAL_REACT_DESCRIPTION\n",
    "\n",
    "app.py is using `AgentType.CONVERSATIONAL_REACT_DESCRIPTION`"
   ]
  },
  {
   "cell_type": "code",
   "execution_count": 17,
   "metadata": {},
   "outputs": [],
   "source": [
    "tools = [\n",
    "    Tool(\n",
    "        name=\"Insurance Policies Brochure\",\n",
    "        func=pdf_chain.run,\n",
    "        description=\"\"\"\n",
    "        Useful for when you need to answer questions about insurance products from HSBC. \n",
    "        Do not say that it's recommended to seek advise from a financial planner or advisor before making a decision, because the chatbot user is a financial planner. \n",
    "        \"\"\",\n",
    "    ),\n",
    "    Tool(\n",
    "        name=\"Term Life Polices\",\n",
    "        func=sql_agent.run,\n",
    "        description=f\"\"\"\n",
    "        Useful for when you need to answer questions about premium for term life products data stored in sql table term_life_table.\n",
    "        Table name has no quotes. \n",
    "        Run sql operations on table to help you get the right answer.\n",
    "        \"\"\",\n",
    "    ),\n",
    "    Tool(\n",
    "        name=\"Cancer Insurance Plans 2023\",\n",
    "        func=webpage_chain.run,\n",
    "        description=f\"\"\"\n",
    "        Useful for when you need to answer questions about cancer insurance plans in singapore too.  \n",
    "        \"\"\",\n",
    "    ),\n",
    "    ddg_agent,\n",
    "]"
   ]
  },
  {
   "cell_type": "markdown",
   "metadata": {},
   "source": [
    "---"
   ]
  },
  {
   "cell_type": "code",
   "execution_count": 18,
   "metadata": {},
   "outputs": [],
   "source": [
    "# change the value of the prefix argument in the initialize_agent function. This will overwrite the default prompt template of the zero shot agent type\n",
    "agent_kwargs = {'prefix': f'You are friendly financial advisor that advises on insurance polices. You are tasked to assist the current user on questions related to term life policies. You have access to the following tools:'}\n",
    "\n",
    "\n",
    "# initialize the LLM agent\n",
    "agent = initialize_agent(tools, \n",
    "                         llm, \n",
    "                         agent=AgentType.ZERO_SHOT_REACT_DESCRIPTION, \n",
    "                         verbose=True, \n",
    "                         max_iterations=10,\n",
    "                         early_stopping_method=\"generate\",\n",
    "                         agent_kwargs=agent_kwargs\n",
    "                         )\n",
    "# define q and a function for frontend\n",
    "def get_response(user_input):\n",
    "    response = agent.run(user_input)\n",
    "    return response"
   ]
  },
  {
   "cell_type": "code",
   "execution_count": 19,
   "metadata": {},
   "outputs": [
    {
     "name": "stdout",
     "output_type": "stream",
     "text": [
      "You are friendly financial advisor that advises on insurance polices. You are tasked to assist the current user on questions related to term life policies. You have access to the following tools:\n",
      "\n",
      "Insurance Policies Brochure: \n",
      "        Useful for when you need to answer questions about insurance products from HSBC. \n",
      "        Do not say that it's recommended to seek advise from a financial planner or advisor before making a decision, because the chatbot user is a financial planner. \n",
      "        \n",
      "Term Life Polices: \n",
      "        Useful for when you need to answer questions about premium for term life products data stored in sql table term_life_table.\n",
      "        Table name has no quotes. \n",
      "        Run sql operations on table to help you get the right answer.\n",
      "        \n",
      "Cancer Insurance Plans 2023: \n",
      "        Useful for when you need to answer questions about cancer insurance plans in singapore too.  \n",
      "        \n",
      "Web Search Results: A wrapper around Duck Duck Go Search. Useful for when you need to answer when there are no more alternatives. \n",
      "    Input should be a search query. Output is a JSON array of the query results. \n",
      "    Please search in Singapore region for best results.\n",
      "    \n",
      "\n",
      "Use the following format:\n",
      "\n",
      "Question: the input question you must answer\n",
      "Thought: you should always think about what to do\n",
      "Action: the action to take, should be one of [Insurance Policies Brochure, Term Life Polices, Cancer Insurance Plans 2023, Web Search Results]\n",
      "Action Input: the input to the action\n",
      "Observation: the result of the action\n",
      "... (this Thought/Action/Action Input/Observation can repeat N times)\n",
      "Thought: I now know the final answer\n",
      "Final Answer: the final answer to the original input question\n",
      "\n",
      "Begin!\n",
      "\n",
      "Question: {input}\n",
      "Thought:{agent_scratchpad}\n"
     ]
    }
   ],
   "source": [
    "print(agent.agent.llm_chain.prompt.template)"
   ]
  },
  {
   "cell_type": "markdown",
   "metadata": {},
   "source": [
    "# Test Queries"
   ]
  },
  {
   "cell_type": "code",
   "execution_count": 20,
   "metadata": {},
   "outputs": [
    {
     "name": "stdout",
     "output_type": "stream",
     "text": [
      "\n",
      "\n",
      "\u001b[1m> Entering new AgentExecutor chain...\u001b[0m\n",
      "\u001b[32;1m\u001b[1;3mThe question is about the definition of a term life product. I can find this information in the Insurance Policies Brochure.\n",
      "Action: Insurance Policies Brochure\n",
      "Action Input: term life product\u001b[0m\n",
      "Observation: \u001b[36;1m\u001b[1;3mThe context provided does not include information about a term life product. It only discusses a whole life insurance plan, specifically the HSBC Life - Life Treasure (II).\u001b[0m\n",
      "Thought:\u001b[32;1m\u001b[1;3mThe Insurance Policies Brochure does not provide information on term life products. I should use the Web Search Results to find a definition.\n",
      "Action: Web Search Results\n",
      "Action Input: what is a term life product\u001b[0m\n",
      "Observation: \u001b[36;1m\u001b[1;3m[snippet: Term life insurance guarantees payment of a stated death benefit to the insured's beneficiaries if the insured person dies during the specified term. These policies have no value other than the..., title: Term Life Insurance: What It Is, Different Types, Pros and Cons, link: https://www.investopedia.com/terms/t/termlife.asp], [snippet: Term life insurance is a type of life insurance policy that provides coverage for a certain period of time, or a specified \"term\" of years. If the insured dies during the time period..., title: What Is Term Insurance? How Does It Work, and What Are the Types?, link: https://www.investopedia.com/ask/answers/08/term-life-insurance.asp], [snippet: To understand term life insurance, you first have to understand how any sort of life insurance works. Life insurance is simply a contract between you and an insurance company. You pay them a monthly premium, and if you die, the insurance company pays a specific amount to whoever you choose. Let's face it., title: What Is Term Life Insurance? - Ramsey - Ramsey Solutions, link: https://www.ramseysolutions.com/insurance/what-is-term-life-insurance], [snippet: . While there are a few different types of life insurance policies available, they fit into one of two umbrellas: term life and permanent life. Term life insurance is almost always..., title: Term Life Insurance | Bankrate, link: https://www.bankrate.com/insurance/life-insurance/term-life-insurance/]\u001b[0m\n",
      "Thought:\u001b[32;1m\u001b[1;3mI now have a definition for term life insurance from the web search results.\n",
      "Final Answer: Term life insurance is a type of life insurance policy that provides coverage for a certain period of time, or a specified \"term\" of years. If the insured dies during this time period, the insurance company guarantees payment of a stated death benefit to the insured's beneficiaries. These policies have no value other than the guaranteed death benefit.\u001b[0m\n",
      "\n",
      "\u001b[1m> Finished chain.\u001b[0m\n"
     ]
    },
    {
     "data": {
      "text/plain": [
       "'Term life insurance is a type of life insurance policy that provides coverage for a certain period of time, or a specified \"term\" of years. If the insured dies during this time period, the insurance company guarantees payment of a stated death benefit to the insured\\'s beneficiaries. These policies have no value other than the guaranteed death benefit.'"
      ]
     },
     "execution_count": 20,
     "metadata": {},
     "output_type": "execute_result"
    }
   ],
   "source": [
    "get_response(\"what is a term life product?\")"
   ]
  },
  {
   "cell_type": "code",
   "execution_count": 21,
   "metadata": {},
   "outputs": [
    {
     "name": "stdout",
     "output_type": "stream",
     "text": [
      "\n",
      "\n",
      "\u001b[1m> Entering new AgentExecutor chain...\u001b[0m\n",
      "\u001b[32;1m\u001b[1;3mI need to check the term life policies data to find out which product has the most expensive annual premium for a 40 year old male.\n",
      "Action: Term Life Polices\n",
      "Action Input: SELECT product_name, MAX(annual_premium) FROM term_life_table WHERE age = 40 AND gender = 'male'\u001b[0m\n",
      "\n",
      "\u001b[1m> Entering new AgentExecutor chain...\u001b[0m\n",
      "\u001b[32;1m\u001b[1;3mAction: sql_db_list_tables\n",
      "Action Input: ''\u001b[0m\n",
      "Observation: \u001b[38;5;200m\u001b[1;3mterm_life_table\u001b[0m\n",
      "Thought:\u001b[32;1m\u001b[1;3mThe term_life_table seems to be the relevant table for the query. I should check its schema to understand its structure and the fields it contains.\n",
      "Action: sql_db_schema\n",
      "Action Input: 'term_life_table'\u001b[0m\n",
      "Observation: \u001b[33;1m\u001b[1;3mError: table_names {\"'term_life_table'\"} not found in database\u001b[0m\n",
      "Thought:\u001b[32;1m\u001b[1;3mIt seems like there was a mistake in the table name. I should try again without the quotes.\n",
      "Action: sql_db_schema\n",
      "Action Input: term_life_table\u001b[0m\n",
      "Observation: \u001b[33;1m\u001b[1;3m\n",
      "CREATE TABLE term_life_table (\n",
      "\t\"index\" INTEGER, \n",
      "\t\"PRODUCT_CATE\" TEXT, \n",
      "\t\"CATEGORY\" TEXT, \n",
      "\t\"AGE\" INTEGER, \n",
      "\t\"GENDER\" TEXT, \n",
      "\t\"SMOKER\" TEXT, \n",
      "\t\"CI_BENEFIT\" TEXT, \n",
      "\t\"PREMIUM_TYPE\" TEXT, \n",
      "\t\"COVERAGE_TERM_OPTION\" TEXT, \n",
      "\t\"SUM_ASSURED\" INTEGER, \n",
      "\t\"COMPANY_NAME\" TEXT, \n",
      "\t\"PRODUCT_NAME\" TEXT, \n",
      "\t\"PRODUCT_DESC\" TEXT, \n",
      "\t\"TPD_FLAG\" INTEGER, \n",
      "\t\"CI_FLAG\" INTEGER, \n",
      "\t\"NO_UNDERWRITING_FLAG\" INTEGER, \n",
      "\t\"SRS_FLAG\" INTEGER, \n",
      "\t\"CPFIS_FLAG\" INTEGER, \n",
      "\t\"LEVEL_SUM_ASSURED_FLAG\" INTEGER, \n",
      "\t\"HAS_RENEWABILITY_FLAG\" INTEGER, \n",
      "\t\"HAS_CONVERTABILITY_FLAG\" INTEGER, \n",
      "\t\"ANNUAL_PREMIUM\" INTEGER, \n",
      "\t\"COVERAGE_TERM\" TEXT, \n",
      "\t\"PREMIUM_TERM\" TEXT, \n",
      "\t\"DISTRIBTION_COST\" INTEGER, \n",
      "\t\"TOTAL_PREMIUM\" INTEGER, \n",
      "\t\"CREDIT_RATING\" TEXT, \n",
      "\t\"OPTIONAL_RIDER\" TEXT, \n",
      "\t\"DEATH_BENEFIT_5\" INTEGER, \n",
      "\t\"DEATH_BENEFIT_10\" INTEGER, \n",
      "\t\"DEATH_BENEFIT_20\" INTEGER, \n",
      "\t\"DEATH_BENEFIT_30\" INTEGER, \n",
      "\t\"LAST_UPDATED_DATE\" TEXT, \n",
      "\t\"NUM_OF_PDT\" INTEGER\n",
      ")\n",
      "\n",
      "/*\n",
      "3 rows from term_life_table table:\n",
      "index\tPRODUCT_CATE\tCATEGORY\tAGE\tGENDER\tSMOKER\tCI_BENEFIT\tPREMIUM_TYPE\tCOVERAGE_TERM_OPTION\tSUM_ASSURED\tCOMPANY_NAME\tPRODUCT_NAME\tPRODUCT_DESC\tTPD_FLAG\tCI_FLAG\tNO_UNDERWRITING_FLAG\tSRS_FLAG\tCPFIS_FLAG\tLEVEL_SUM_ASSURED_FLAG\tHAS_RENEWABILITY_FLAG\tHAS_CONVERTABILITY_FLAG\tANNUAL_PREMIUM\tCOVERAGE_TERM\tPREMIUM_TERM\tDISTRIBTION_COST\tTOTAL_PREMIUM\tCREDIT_RATING\tOPTIONAL_RIDER\tDEATH_BENEFIT_5\tDEATH_BENEFIT_10\tDEATH_BENEFIT_20\tDEATH_BENEFIT_30\tLAST_UPDATED_DATE\tNUM_OF_PDT\n",
      "0\tTerm Life products\tDPI\t19\tMale\tYes\tYes\tAnnual\t5 Years\t50000\tGreat Eastern Life\tDIRECT - Great 5yr Term with Optional DIRECT - Great 5yr Critical Care\tNone\t1\t1\t0\t0\t0\t1\t1\t0\t87\t5 years\t5 years\t0\t435\tAA- (Standard & Poor's) The Great Eastern Life Assurance Co Ltd\tNone\t50000\t0\t0\t0\tMar 24, 2016\t13\n",
      "1\tTerm Life products\tDPI\t19\tMale\tYes\tYes\tAnnual\t5 Years\t50000\tTokio Marine Life Insurance Singapore Ltd\tDIRECT- TM Basic Term (Renewable) (+ Critical Illness)\t5 years Renewable (w Critical Illness Acc Rider)\t1\t1\t0\t0\t0\t1\t1\t0\t59\t5 years\t5 years\t0\t291\tA+ (S&P) Tokio Marine & Nichido Fire Insurance Co., Ltd.\tCritical Illness\t50000\t0\t0\t0\tMay 28, 2019\t13\n",
      "2\tTerm Life products\tDPI\t19\tMale\tYes\tYes\tAnnual\t5 Years\t50000\tSingapore Life Ltd.\tDIRECT - Singlife Term Life\tYour premium term is 5 years (With CI Benefit).\t1\t1\t0\t0\t0\t1\t1\t0\t50\t5 years\t5 years\t0\t250\tA3 (Moody's) Singapore Life Ltd.\tCritical Illness\t50000\t0\t0\t0\tJan 21, 2017\t13\n",
      "*/\u001b[0m\n",
      "Thought:\u001b[32;1m\u001b[1;3mThe term_life_table contains the fields needed for the query. The fields are \"PRODUCT_NAME\" and \"ANNUAL_PREMIUM\". I also need to filter the data based on the \"AGE\" and \"GENDER\" fields. Now I can construct the SQL query.\n",
      "Action: sql_db_query_checker\n",
      "Action Input: SELECT PRODUCT_NAME, MAX(ANNUAL_PREMIUM) FROM term_life_table WHERE AGE = 40 AND GENDER = 'Male'\u001b[0m\n",
      "Observation: \u001b[36;1m\u001b[1;3mSELECT PRODUCT_NAME, MAX(ANNUAL_PREMIUM) FROM term_life_table WHERE AGE = 40 AND GENDER = 'Male'\u001b[0m\n",
      "Thought:\u001b[32;1m\u001b[1;3mThe query syntax is correct. Now I can execute the query.\n",
      "Action: sql_db_query\n",
      "Action Input: SELECT PRODUCT_NAME, MAX(ANNUAL_PREMIUM) FROM term_life_table WHERE AGE = 40 AND GENDER = 'Male'\u001b[0m\n",
      "Observation: \u001b[36;1m\u001b[1;3m[('PRUActive Term', 72002)]\u001b[0m\n",
      "Thought:\u001b[32;1m\u001b[1;3mI now know the final answer\n",
      "Final Answer: The product with the highest annual premium for a 40 year old male is 'PRUActive Term' with an annual premium of 72002.\u001b[0m\n",
      "\n",
      "\u001b[1m> Finished chain.\u001b[0m\n",
      "\n",
      "Observation: \u001b[33;1m\u001b[1;3mThe product with the highest annual premium for a 40 year old male is 'PRUActive Term' with an annual premium of 72002.\u001b[0m\n",
      "Thought:\u001b[32;1m\u001b[1;3mI now know the final answer.\n",
      "Final Answer: The term life product with the most expensive annual premium for a 40 year old male is 'PRUActive Term' with an annual premium of 72002.\u001b[0m\n",
      "\n",
      "\u001b[1m> Finished chain.\u001b[0m\n"
     ]
    },
    {
     "data": {
      "text/plain": [
       "\"The term life product with the most expensive annual premium for a 40 year old male is 'PRUActive Term' with an annual premium of 72002.\""
      ]
     },
     "execution_count": 21,
     "metadata": {},
     "output_type": "execute_result"
    }
   ],
   "source": [
    "get_response(\"which term life product has most expensive annual premium for 40 year old male?\")"
   ]
  },
  {
   "cell_type": "code",
   "execution_count": null,
   "metadata": {},
   "outputs": [],
   "source": [
    "get_response(\"give me the range for annual premium for term life products for a 35 year old non-smoker female?\")"
   ]
  },
  {
   "cell_type": "code",
   "execution_count": 22,
   "metadata": {},
   "outputs": [
    {
     "name": "stdout",
     "output_type": "stream",
     "text": [
      "\n",
      "\n",
      "\u001b[1m> Entering new AgentExecutor chain...\u001b[0m\n",
      "\u001b[32;1m\u001b[1;3mThe user is asking about a specific cancer insurance plan from MSIG. I should use the Cancer Insurance Plans 2023 tool to find information about this plan.\n",
      "Action: Cancer Insurance Plans 2023\n",
      "Action Input: MSIG cancer insurance\u001b[0m\n",
      "Observation: \u001b[38;5;200m\u001b[1;3mMSIG offers a cancer insurance plan called CancerCare Plus. This plan covers stages of cancer along with medical expenses. The maximum sum insured is S$100,000. The annual premium for a non-smoker male of 25 years is S$43.20 after a 20% discount. The coverage includes early to late stage cancer. There is no death benefit mentioned. You can purchase this insurance directly online.\u001b[0m\n",
      "Thought:\u001b[32;1m\u001b[1;3mI now have the information about the MSIG cancer insurance plan.\n",
      "Final Answer: MSIG offers a cancer insurance plan called CancerCare Plus. This plan covers stages of cancer along with medical expenses. The maximum sum insured is S$100,000. The annual premium for a non-smoker male of 25 years is S$43.20 after a 20% discount. The coverage includes early to late stage cancer. There is no death benefit mentioned. You can purchase this insurance directly online.\u001b[0m\n",
      "\n",
      "\u001b[1m> Finished chain.\u001b[0m\n"
     ]
    },
    {
     "data": {
      "text/plain": [
       "'MSIG offers a cancer insurance plan called CancerCare Plus. This plan covers stages of cancer along with medical expenses. The maximum sum insured is S$100,000. The annual premium for a non-smoker male of 25 years is S$43.20 after a 20% discount. The coverage includes early to late stage cancer. There is no death benefit mentioned. You can purchase this insurance directly online.'"
      ]
     },
     "execution_count": 22,
     "metadata": {},
     "output_type": "execute_result"
    }
   ],
   "source": [
    "\n",
    "# get_response(\"tell me what you know about cancer insurance plan in singapore 2023\")\n",
    "get_response(\"Tell me about MSIG cancer insurance\")"
   ]
  },
  {
   "cell_type": "code",
   "execution_count": null,
   "metadata": {},
   "outputs": [],
   "source": []
  },
  {
   "cell_type": "markdown",
   "metadata": {},
   "source": [
    "# Debug"
   ]
  },
  {
   "cell_type": "code",
   "execution_count": 34,
   "metadata": {},
   "outputs": [],
   "source": [
    "from langchain import hub\n",
    "from langchain.tools.render import render_text_description\n",
    "from langchain.agents.output_parsers import ReActSingleInputOutputParser\n",
    "from langchain.agents.format_scratchpad import format_log_to_str\n",
    "from langchain.agents import AgentExecutor\n",
    "from langchain.agents import Tool\n",
    "from langchain.agents import AgentType\n",
    "from langchain.memory import ConversationBufferMemory\n",
    "from langchain.llms import OpenAI\n",
    "from langchain.utilities import SerpAPIWrapper\n",
    "from langchain.agents import initialize_agent\n",
    "# prompt = hub.pull(\"hwchase17/react-chat-json\")"
   ]
  },
  {
   "cell_type": "code",
   "execution_count": 38,
   "metadata": {},
   "outputs": [],
   "source": [
    "# prompt = prompt.partial(\n",
    "#     tools=render_text_description(tools),\n",
    "#     tool_names=\", \".join([t.name for t in tools]),\n",
    "#     template=\"\"\"\n",
    "# You are friendly financial advisor that advises on insurance polices. You are tasked to assist the current user on questions related to term life policies. You have access to the following tools:\n",
    "\n",
    "# Use the following format:\n",
    "\n",
    "# Question: the input question you must answer\n",
    "# Thought: you should always think about what to do\n",
    "# Action: the action to take, should be one of [MAS term life Policies, Term Life Polices, Cancer Insurance Plans 2023, DuckDuckGo Results JSON]\n",
    "# Action Input: the input to the action\n",
    "# Observation: the result of the action\n",
    "# ... (this Thought/Action/Action Input/Observation can repeat N times)\n",
    "# Thought: I now know the final answer\n",
    "# Final Answer: the final answer to the original input question\n",
    "\n",
    "# Begin!\n",
    "\n",
    "# Question: {input}\n",
    "# Thought:{agent_scratchpad}\n",
    "\n",
    "# \"\"\",\n",
    "# )\n",
    "# llm_with_stop = llm.bind(stop=[\"\\nObservation\"])\n",
    "# agent = (\n",
    "#     {\n",
    "#         \"input\": lambda x: x[\"input\"],\n",
    "#         \"agent_scratchpad\": lambda x: format_log_to_str(x[\"intermediate_steps\"]),\n",
    "#         \"chat_history\": lambda x: x[\"chat_history\"],\n",
    "#     }\n",
    "#     | prompt\n",
    "#     | llm_with_stop\n",
    "#     | ReActSingleInputOutputParser()\n",
    "# )\n",
    "\n",
    "memory = ConversationBufferMemory(memory_key=\"chat_history\")\n",
    "# agent_executor = AgentExecutor(agent=agent, tools=tools, verbose=True, memory=memory\n",
    "\n",
    "# change the value of the prefix argument in the initialize_agent function. This will overwrite the default prompt template of the zero shot agent type\n",
    "agent_kwargs = {\n",
    "    \"prefix\": f\"You are friendly financial advisor that advises on insurance polices. You are tasked to assist the current user on questions related to term life policies. You have access to the following tools:\"\n",
    "}\n",
    "\n",
    "agent_executor = initialize_agent(\n",
    "    tools,\n",
    "    llm=ChatOpenAI(openai_api_key=os.environ[\"OPENAI_API_KEY\"], model_name=\"gpt-4\", temperature=0.0),\n",
    "    agent=AgentType.CONVERSATIONAL_REACT_DESCRIPTION,\n",
    "    verbose=True,\n",
    "    memory=memory,\n",
    "    max_iterations=20,\n",
    "    early_stopping_method=\"generate\",\n",
    "    handle_parsing_errors=True,\n",
    "    agent_kwargs=agent_kwargs,\n",
    ")\n",
    "\n",
    "\n",
    "def get_response(user_input):\n",
    "    MAX_RETRIES = 5  # Set the maximum number of retries\n",
    "\n",
    "    for attempt in range(MAX_RETRIES):\n",
    "        try:\n",
    "            # agent_response = agent_chain.run(input)\n",
    "            agent_response = agent_executor.invoke({\"input\": user_input})[\"output\"]\n",
    "\n",
    "        except ValueError as e:\n",
    "            response = str(e)\n",
    "\n",
    "            if not response.startswith(\"Could not parse LLM output: `\"):\n",
    "                raise e\n",
    "\n",
    "            response = response.removeprefix(\"Could not parse LLM output: `\").removesuffix(\"`\")\n",
    "\n",
    "            input = response  # Feed the response back into the agent\n",
    "\n",
    "        # If we've reached the maximum number of retries, give up\n",
    "        if attempt == MAX_RETRIES - 1:\n",
    "            return \"Error: Agent failed to run after multiple attempts\"\n",
    "        return agent_response\n",
    "    # try:\n",
    "    #     response = agent_executor.invoke({\"input\": user_input})[\"output\"]\n",
    "    # except ValueError as e:\n",
    "    #     response = str(e)\n",
    "    #     if not response.startswith(\"Could not parse LLM output: `\"):\n",
    "    #         raise e\n",
    "    #     response = response.removeprefix(\"Could not parse LLM output: `\").removesuffix(\"`\")\n",
    "    # return response"
   ]
  },
  {
   "cell_type": "code",
   "execution_count": 39,
   "metadata": {},
   "outputs": [
    {
     "name": "stdout",
     "output_type": "stream",
     "text": [
      "\n",
      "\n",
      "\u001b[1m> Entering new AgentExecutor chain...\u001b[0m\n",
      "\u001b[32;1m\u001b[1;3mThought: Do I need to use a tool? No\n",
      "AI: Hello Bob! How can I assist you with your insurance policy queries today?\u001b[0m\n",
      "\n",
      "\u001b[1m> Finished chain.\u001b[0m\n"
     ]
    },
    {
     "data": {
      "text/plain": [
       "'Hello Bob! How can I assist you with your insurance policy queries today?'"
      ]
     },
     "execution_count": 39,
     "metadata": {},
     "output_type": "execute_result"
    }
   ],
   "source": [
    "agent_executor.invoke({\"input\": \"hi, i am bob\"})['output']\n",
    "# get_response(\"hi, i am bob\")\n",
    "# agent_executor.run(\"hi, i am bob\")"
   ]
  },
  {
   "cell_type": "code",
   "execution_count": 40,
   "metadata": {},
   "outputs": [
    {
     "name": "stdout",
     "output_type": "stream",
     "text": [
      "\n",
      "\n",
      "\u001b[1m> Entering new AgentExecutor chain...\u001b[0m\n",
      "\u001b[32;1m\u001b[1;3mThought: Do I need to use a tool? No\n",
      "AI: Your name is Bob.\u001b[0m\n",
      "\n",
      "\u001b[1m> Finished chain.\u001b[0m\n"
     ]
    },
    {
     "data": {
      "text/plain": [
       "'Your name is Bob.'"
      ]
     },
     "execution_count": 40,
     "metadata": {},
     "output_type": "execute_result"
    }
   ],
   "source": [
    "agent_executor.invoke({\"input\": \"What is my name?\"})['output']\n",
    "# get_response(\"hi, i am bob\")\n",
    "# agent_executor.run(\"hi, i am bob\")"
   ]
  },
  {
   "cell_type": "code",
   "execution_count": 41,
   "metadata": {},
   "outputs": [
    {
     "name": "stdout",
     "output_type": "stream",
     "text": [
      "\n",
      "\n",
      "\u001b[1m> Entering new AgentExecutor chain...\u001b[0m\n",
      "\u001b[32;1m\u001b[1;3mThought: Do I need to use a tool? No\n",
      "AI: A Direct Purchase Insurance (DPI) product is a type of life insurance policy that you can buy directly from an insurance company, without the need for a financial advisor or insurance agent. These policies are designed to be simple and easy to understand, and they often come with lower premiums because there are no commission fees. DPI products can include term life insurance, whole life insurance, and other types of coverage.\u001b[0m\n",
      "\n",
      "\u001b[1m> Finished chain.\u001b[0m\n"
     ]
    },
    {
     "data": {
      "text/plain": [
       "'A Direct Purchase Insurance (DPI) product is a type of life insurance policy that you can buy directly from an insurance company, without the need for a financial advisor or insurance agent. These policies are designed to be simple and easy to understand, and they often come with lower premiums because there are no commission fees. DPI products can include term life insurance, whole life insurance, and other types of coverage.'"
      ]
     },
     "execution_count": 41,
     "metadata": {},
     "output_type": "execute_result"
    }
   ],
   "source": [
    "\n",
    "# agent_executor.run(\"what is a direct purchase insurance product?\")\n",
    "agent_executor.invoke({\"input\": \"what is a direct purchase insurance product?\"})['output']"
   ]
  },
  {
   "cell_type": "code",
   "execution_count": 42,
   "metadata": {},
   "outputs": [
    {
     "name": "stdout",
     "output_type": "stream",
     "text": [
      "\n",
      "\n",
      "\u001b[1m> Entering new AgentExecutor chain...\u001b[0m\n",
      "\u001b[32;1m\u001b[1;3mThought: Do I need to use a tool? Yes\n",
      "Action: Term Life Polices\n",
      "Action Input: SELECT MIN(annual_premium), MAX(annual_premium) FROM term_life_table WHERE age = 35 AND smoker = 'No' AND gender = 'Female'\u001b[0m\n",
      "\n",
      "\u001b[1m> Entering new AgentExecutor chain...\u001b[0m\n",
      "\u001b[32;1m\u001b[1;3mAction: sql_db_list_tables\n",
      "Action Input: ''\u001b[0m\n",
      "Observation: \u001b[38;5;200m\u001b[1;3mterm_life_table\u001b[0m\n",
      "Thought:\u001b[32;1m\u001b[1;3mThe term_life_table is available. Now I need to check the schema of this table to ensure it contains the columns I need for the query.\n",
      "Action: sql_db_schema\n",
      "Action Input: 'term_life_table'\u001b[0m\n",
      "Observation: \u001b[33;1m\u001b[1;3mError: table_names {\"'term_life_table'\"} not found in database\u001b[0m\n",
      "Thought:\u001b[32;1m\u001b[1;3mIt seems like there was a mistake in the table name. I should try again without the quotes.\n",
      "Action: sql_db_schema\n",
      "Action Input: term_life_table\u001b[0m\n",
      "Observation: \u001b[33;1m\u001b[1;3m\n",
      "CREATE TABLE term_life_table (\n",
      "\t\"index\" INTEGER, \n",
      "\t\"PRODUCT_CATE\" TEXT, \n",
      "\t\"CATEGORY\" TEXT, \n",
      "\t\"AGE\" INTEGER, \n",
      "\t\"GENDER\" TEXT, \n",
      "\t\"SMOKER\" TEXT, \n",
      "\t\"CI_BENEFIT\" TEXT, \n",
      "\t\"PREMIUM_TYPE\" TEXT, \n",
      "\t\"COVERAGE_TERM_OPTION\" TEXT, \n",
      "\t\"SUM_ASSURED\" INTEGER, \n",
      "\t\"COMPANY_NAME\" TEXT, \n",
      "\t\"PRODUCT_NAME\" TEXT, \n",
      "\t\"PRODUCT_DESC\" TEXT, \n",
      "\t\"TPD_FLAG\" INTEGER, \n",
      "\t\"CI_FLAG\" INTEGER, \n",
      "\t\"NO_UNDERWRITING_FLAG\" INTEGER, \n",
      "\t\"SRS_FLAG\" INTEGER, \n",
      "\t\"CPFIS_FLAG\" INTEGER, \n",
      "\t\"LEVEL_SUM_ASSURED_FLAG\" INTEGER, \n",
      "\t\"HAS_RENEWABILITY_FLAG\" INTEGER, \n",
      "\t\"HAS_CONVERTABILITY_FLAG\" INTEGER, \n",
      "\t\"ANNUAL_PREMIUM\" INTEGER, \n",
      "\t\"COVERAGE_TERM\" TEXT, \n",
      "\t\"PREMIUM_TERM\" TEXT, \n",
      "\t\"DISTRIBTION_COST\" INTEGER, \n",
      "\t\"TOTAL_PREMIUM\" INTEGER, \n",
      "\t\"CREDIT_RATING\" TEXT, \n",
      "\t\"OPTIONAL_RIDER\" TEXT, \n",
      "\t\"DEATH_BENEFIT_5\" INTEGER, \n",
      "\t\"DEATH_BENEFIT_10\" INTEGER, \n",
      "\t\"DEATH_BENEFIT_20\" INTEGER, \n",
      "\t\"DEATH_BENEFIT_30\" INTEGER, \n",
      "\t\"LAST_UPDATED_DATE\" TEXT, \n",
      "\t\"NUM_OF_PDT\" INTEGER\n",
      ")\n",
      "\n",
      "/*\n",
      "3 rows from term_life_table table:\n",
      "index\tPRODUCT_CATE\tCATEGORY\tAGE\tGENDER\tSMOKER\tCI_BENEFIT\tPREMIUM_TYPE\tCOVERAGE_TERM_OPTION\tSUM_ASSURED\tCOMPANY_NAME\tPRODUCT_NAME\tPRODUCT_DESC\tTPD_FLAG\tCI_FLAG\tNO_UNDERWRITING_FLAG\tSRS_FLAG\tCPFIS_FLAG\tLEVEL_SUM_ASSURED_FLAG\tHAS_RENEWABILITY_FLAG\tHAS_CONVERTABILITY_FLAG\tANNUAL_PREMIUM\tCOVERAGE_TERM\tPREMIUM_TERM\tDISTRIBTION_COST\tTOTAL_PREMIUM\tCREDIT_RATING\tOPTIONAL_RIDER\tDEATH_BENEFIT_5\tDEATH_BENEFIT_10\tDEATH_BENEFIT_20\tDEATH_BENEFIT_30\tLAST_UPDATED_DATE\tNUM_OF_PDT\n",
      "0\tTerm Life products\tDPI\t19\tMale\tYes\tYes\tAnnual\t5 Years\t50000\tGreat Eastern Life\tDIRECT - Great 5yr Term with Optional DIRECT - Great 5yr Critical Care\tNone\t1\t1\t0\t0\t0\t1\t1\t0\t87\t5 years\t5 years\t0\t435\tAA- (Standard & Poor's) The Great Eastern Life Assurance Co Ltd\tNone\t50000\t0\t0\t0\tMar 24, 2016\t13\n",
      "1\tTerm Life products\tDPI\t19\tMale\tYes\tYes\tAnnual\t5 Years\t50000\tTokio Marine Life Insurance Singapore Ltd\tDIRECT- TM Basic Term (Renewable) (+ Critical Illness)\t5 years Renewable (w Critical Illness Acc Rider)\t1\t1\t0\t0\t0\t1\t1\t0\t59\t5 years\t5 years\t0\t291\tA+ (S&P) Tokio Marine & Nichido Fire Insurance Co., Ltd.\tCritical Illness\t50000\t0\t0\t0\tMay 28, 2019\t13\n",
      "2\tTerm Life products\tDPI\t19\tMale\tYes\tYes\tAnnual\t5 Years\t50000\tSingapore Life Ltd.\tDIRECT - Singlife Term Life\tYour premium term is 5 years (With CI Benefit).\t1\t1\t0\t0\t0\t1\t1\t0\t50\t5 years\t5 years\t0\t250\tA3 (Moody's) Singapore Life Ltd.\tCritical Illness\t50000\t0\t0\t0\tJan 21, 2017\t13\n",
      "*/\u001b[0m\n",
      "Thought:\u001b[32;1m\u001b[1;3mThe term_life_table does contain the columns I need for the query: AGE, GENDER, SMOKER, and ANNUAL_PREMIUM. Now I will construct the query and check it.\n",
      "Action: sql_db_query_checker\n",
      "Action Input: SELECT MIN(ANNUAL_PREMIUM), MAX(ANNUAL_PREMIUM) FROM term_life_table WHERE AGE = 35 AND SMOKER = 'No' AND GENDER = 'Female'\u001b[0m\n",
      "Observation: \u001b[36;1m\u001b[1;3mSELECT MIN(ANNUAL_PREMIUM), MAX(ANNUAL_PREMIUM) FROM term_life_table WHERE AGE = 35 AND SMOKER = 'No' AND GENDER = 'Female'\u001b[0m\n",
      "Thought:\u001b[32;1m\u001b[1;3mThe query is correct. Now I will execute it.\n",
      "Action: sql_db_query\n",
      "Action Input: SELECT MIN(ANNUAL_PREMIUM), MAX(ANNUAL_PREMIUM) FROM term_life_table WHERE AGE = 35 AND SMOKER = 'No' AND GENDER = 'Female'\u001b[0m\n",
      "Observation: \u001b[36;1m\u001b[1;3m[(0, 39125)]\u001b[0m\n",
      "Thought:\u001b[32;1m\u001b[1;3mThe minimum and maximum annual premiums for a 35 year old non-smoker female are 0 and 39125 respectively.\n",
      "Final Answer: The minimum annual premium is 0 and the maximum annual premium is 39125.\u001b[0m\n",
      "\n",
      "\u001b[1m> Finished chain.\u001b[0m\n",
      "\n",
      "Observation: \u001b[33;1m\u001b[1;3mThe minimum annual premium is 0 and the maximum annual premium is 39125.\u001b[0m\n",
      "Thought:\u001b[32;1m\u001b[1;3mDo I need to use a tool? No\n",
      "AI: The range for the annual premium for term life products for a 35-year-old non-smoker female is from 0 to 39125.\u001b[0m\n",
      "\n",
      "\u001b[1m> Finished chain.\u001b[0m\n"
     ]
    },
    {
     "data": {
      "text/plain": [
       "'The range for the annual premium for term life products for a 35-year-old non-smoker female is from 0 to 39125.'"
      ]
     },
     "execution_count": 42,
     "metadata": {},
     "output_type": "execute_result"
    }
   ],
   "source": [
    "\n",
    "# agent_executor.run(\"what is a direct purchase insurance product?\")\n",
    "agent_executor.invoke({\"input\": \"give me the range for annual premium for term life products for a 35 year old non-smoker female?\"})['output']\n",
    "# get_response(\"give me the range for annual premium for term life products for a 35 year old non-smoker female?\")"
   ]
  },
  {
   "cell_type": "code",
   "execution_count": null,
   "metadata": {},
   "outputs": [
    {
     "name": "stdout",
     "output_type": "stream",
     "text": [
      "Downloaded projects/advisorally/scrapped_output_term_full_20231011.xlsx from for-singlife to data/excel/scrapped_output_term_full_20231011.xlsx\n"
     ]
    }
   ],
   "source": [
    "import boto3\n",
    "\n",
    "# Initialize the S3 client\n",
    "s3 = boto3.client('s3')\n",
    "\n",
    "# Define the bucket name and the file key\n",
    "bucket_name = \"for-singlife\"\n",
    "file_key = \"projects/advisorally/scrapped_output_term_full_20231011.xlsx\"\n",
    "download_path = \"data/excel/scrapped_output_term_full_20231011.xlsx\" \n",
    "\n",
    "# Download the file\n",
    "s3.download_file(bucket_name, file_key, download_path)\n",
    "\n",
    "print(f\"Downloaded {file_key} from {bucket_name} to {download_path}\")\n"
   ]
  },
  {
   "cell_type": "code",
   "execution_count": null,
   "metadata": {},
   "outputs": [],
   "source": []
  }
 ],
 "metadata": {
  "kernelspec": {
   "display_name": ".venv",
   "language": "python",
   "name": "python3"
  },
  "language_info": {
   "codemirror_mode": {
    "name": "ipython",
    "version": 3
   },
   "file_extension": ".py",
   "mimetype": "text/x-python",
   "name": "python",
   "nbconvert_exporter": "python",
   "pygments_lexer": "ipython3",
   "version": "3.9.17"
  }
 },
 "nbformat": 4,
 "nbformat_minor": 2
}
